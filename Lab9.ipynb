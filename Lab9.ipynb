{
 "cells": [
  {
   "cell_type": "code",
   "execution_count": 32,
   "id": "b6931a23-b710-4e3b-850d-d73362e1693b",
   "metadata": {},
   "outputs": [
    {
     "name": "stdout",
     "output_type": "stream",
     "text": [
      "(4,Diane)\n",
      "(2,Bill)\n",
      "(5,Went to gym this morning)\n",
      "(6,Naruto)\n",
      "(1,Ann)\n",
      "(3,Charles)\n",
      "Edge(6,1,Likes-status)\n",
      "Edge(3,1,Wrote-status)\n",
      "Edge(3,4,is-friends-with)\n",
      "Edge(2,1,Likes-status)\n",
      "Edge(1,2,is-friends-with)\n",
      "Edge(2,6,is-friends-with)\n",
      "(4,1)\n",
      "(3,2)\n",
      "(6,2)\n",
      "(1,4)\n",
      "(2,3)\n",
      "(1,3)\n",
      "(6,1)\n",
      "(2,1)\n",
      "(4,1)\n",
      "(2,2)\n",
      "(1,1)\n",
      "(6,1)\n",
      "(3,2)\n"
     ]
    },
    {
     "data": {
      "text/plain": [
       "import org.apache.spark.graphx._\n",
       "myVertices: org.apache.spark.rdd.RDD[(Long, String)] = ParallelCollectionRDD[2065] at makeRDD at <console>:56\n",
       "myEdges: org.apache.spark.rdd.RDD[org.apache.spark.graphx.Edge[String]] = ParallelCollectionRDD[2066] at makeRDD at <console>:59\n",
       "myGraph: org.apache.spark.graphx.Graph[String,String] = org.apache.spark.graphx.impl.GraphImpl@caec5e1\n"
      ]
     },
     "execution_count": 32,
     "metadata": {},
     "output_type": "execute_result"
    }
   ],
   "source": [
    "import org.apache.spark.graphx._\n",
    "\n",
    "val myVertices = sc.makeRDD(Array((1L, \"Ann\"), (2L, \"Bill\"),(6L,\"Naruto\"),\n",
    " (3L, \"Charles\"), (4L, \"Diane\"), (5L, \"Went to gym this morning\")))\n",
    "\n",
    "val myEdges = sc.makeRDD(Array(Edge(1L, 2L, \"is-friends-with\"), Edge(6L,1L,\"Likes-status\"),\n",
    " Edge(2L, 6L, \"is-friends-with\"), Edge(3L, 4L, \"is-friends-with\"),Edge(2L,1L,\"Likes-status\"), Edge(3L, 1L, \"Wrote-status\")))\n",
    "\n",
    "val myGraph = Graph(myVertices, myEdges)\n",
    "myGraph.vertices.foreach(println(_))\n",
    "// res1: Array[(org.apache.spark.graphx.VertexId, String)] = Array((4,Diane), (2,Bill), (1,Ann), (3,Charles), (5,Went to gym this morning))\n",
    "\n",
    "// Try this by yourself:\n",
    "myGraph.edges.foreach(println(_))\n",
    "myGraph.degrees.foreach(println(_))\n",
    "myGraph.inDegrees.foreach(println(_))\n",
    "myGraph.outDegrees.foreach(println(_))"
   ]
  },
  {
   "cell_type": "code",
   "execution_count": 3,
   "id": "8463d2c1-7d6a-4afa-aa42-83c9be09873a",
   "metadata": {},
   "outputs": [
    {
     "name": "stdout",
     "output_type": "stream",
     "text": [
      "Edge(3,4,true)\n",
      "Edge(4,5,false)\n",
      "Edge(1,2,true)\n",
      "Edge(2,3,true)\n",
      "Edge(3,5,false)\n"
     ]
    },
    {
     "data": {
      "text/plain": [
       "tmp: org.apache.spark.graphx.Graph[String,Boolean] = org.apache.spark.graphx.impl.GraphImpl@6f7b757\n"
      ]
     },
     "execution_count": 3,
     "metadata": {},
     "output_type": "execute_result"
    }
   ],
   "source": [
    "val tmp = myGraph.mapEdges(e => e.attr == \"is-friends-with\")\n",
    "tmp.edges.foreach(println(_))"
   ]
  },
  {
   "cell_type": "code",
   "execution_count": 5,
   "id": "83ef13e2-1d08-4d95-983c-322b55b590bb",
   "metadata": {},
   "outputs": [
    {
     "name": "stdout",
     "output_type": "stream",
     "text": [
      "(2,(1,Bill))\n",
      "(4,(1,Diane))\n",
      "(3,(2,Charles))\n",
      "(1,(1,Ann))\n",
      "(Bill,1)\n",
      "(Diane,1)\n",
      "(Ann,1)\n",
      "(Went to gym this morning,0)\n",
      "(Charles,2)\n"
     ]
    }
   ],
   "source": [
    "myGraph.aggregateMessages[Int](_.sendToSrc(1),\n",
    " _ + _).join(myGraph.vertices).foreach(println(_))\n",
    "\n",
    "// Or better formatted variant:\n",
    "myGraph.aggregateMessages[Int](_.sendToSrc(1),\n",
    " _ + _).rightOuterJoin(myGraph.vertices).map(\n",
    " x => (x._2._2, x._2._1.getOrElse(0))).foreach(println(_))"
   ]
  },
  {
   "cell_type": "code",
   "execution_count": 7,
   "id": "2622b380-39fe-4981-87b6-30fb0f958c5a",
   "metadata": {},
   "outputs": [
    {
     "name": "stdout",
     "output_type": "stream",
     "text": [
      "(3,2)\n",
      "(4,3)\n",
      "(5,4)\n",
      "(1,0)\n",
      "(2,1)\n"
     ]
    },
    {
     "data": {
      "text/plain": [
       "g: org.apache.spark.graphx.Graph[Int,String] = org.apache.spark.graphx.impl.GraphImpl@2af47bc\n"
      ]
     },
     "execution_count": 7,
     "metadata": {},
     "output_type": "execute_result"
    }
   ],
   "source": [
    " val g = Pregel(  \n",
    "    graph = myGraph.mapVertices((vid,vd) => 0),\n",
    "    initialMsg = 0,\n",
    "    maxIterations = Int.MaxValue,\n",
    "    activeDirection = EdgeDirection.Out \n",
    ")(\n",
    "    vprog = (id:VertexId,vd:Int,a:Int) => math.max(vd,a),\n",
    "    sendMsg = (et:EdgeTriplet[Int,String]) =>\n",
    "        Iterator((et.dstId, et.srcAttr+1)),\n",
    "    mergeMsg = (a:Int,b:Int) => math.max(a,b) \n",
    ")\n",
    "\n",
    "g.vertices.foreach(println(_))"
   ]
  },
  {
   "cell_type": "code",
   "execution_count": 9,
   "id": "2efd13af-f70e-4465-8d1d-342c29129aa6",
   "metadata": {},
   "outputs": [
    {
     "name": "stdout",
     "output_type": "stream",
     "text": [
      "Edge(3,5,false)\n",
      "Edge(1,2,true)\n",
      "Edge(3,4,true)\n",
      "Edge(2,3,true)\n",
      "Edge(4,5,false)\n"
     ]
    }
   ],
   "source": [
    "myGraph.mapTriplets(t=>t.attr==\"is-friends-with\").edges.foreach(println(_))"
   ]
  },
  {
   "cell_type": "code",
   "execution_count": 10,
   "id": "1053d611-af8e-4eed-a723-a57427314908",
   "metadata": {},
   "outputs": [
    {
     "name": "stdout",
     "output_type": "stream",
     "text": [
      "(3,true)\n",
      "(4,false)\n",
      "(2,true)\n",
      "(5,false)\n",
      "(1,true)\n"
     ]
    },
    {
     "data": {
      "text/plain": [
       "friendlyVertices: List[Long] = List(1, 2, 3)\n"
      ]
     },
     "execution_count": 10,
     "metadata": {},
     "output_type": "execute_result"
    }
   ],
   "source": [
    "val friendlyVertices = myGraph.edges.filter(_.attr==\"is-friends-with\").map(_.srcId).collect.toList\n",
    "myGraph.mapVertices((v,s) => friendlyVertices.contains(v)).vertices.foreach(println(_))"
   ]
  },
  {
   "cell_type": "code",
   "execution_count": 11,
   "id": "21763d70-9091-42ba-b9da-8fbbc778167a",
   "metadata": {},
   "outputs": [
    {
     "data": {
      "text/plain": [
       "res7: org.apache.spark.graphx.VertexRDD[Boolean] = VertexRDDImpl[173] at RDD at VertexRDD.scala:57\n"
      ]
     },
     "execution_count": 11,
     "metadata": {},
     "output_type": "execute_result"
    }
   ],
   "source": [
    "myGraph.aggregateMessages[Boolean](c => c.sendToSrc(c.attr == \"is-friends-with\"), (a, b) => a || b)"
   ]
  },
  {
   "cell_type": "code",
   "execution_count": 33,
   "id": "14850941-7f07-4975-b059-dee3505788f5",
   "metadata": {},
   "outputs": [
    {
     "name": "stdout",
     "output_type": "stream",
     "text": [
      "(1,2.106715854753376)\n",
      "(6,1.0876823998322398)\n",
      "(2,2.0185689415880077)\n",
      "(3,0.22979059965733606)\n",
      "(4,0.32745160451170385)\n",
      "(5,0.22979059965733606)\n"
     ]
    }
   ],
   "source": [
    "myGraph.pageRank(0.001).vertices.foreach(println)"
   ]
  },
  {
   "cell_type": "markdown",
   "id": "73c675c1-dfea-4e6d-9ebc-ddd03b4ab5bb",
   "metadata": {},
   "source": [
    "Pregel has 3 main parametres: pagerankGraph, initialMessage and numIter. PagerankGraph - graph input. initialMessage - initial message to start the computation. last one is number of iterations.\n",
    "\n",
    "2 example: for parallel compuation and simplify graph analytics projects."
   ]
  },
  {
   "cell_type": "markdown",
   "id": "39a1aa2a-797b-4779-b964-a18f172082f5",
   "metadata": {},
   "source": [
    "How I acheved highest value innode 1? I created new node (\"Naruto\"). Connected 3 to 1, 2 to 1, 6(new) to 1 and removed between 4 and 5, removed 2 and 3."
   ]
  },
  {
   "cell_type": "code",
   "execution_count": null,
   "id": "fd0c0bc7-79bf-4e7b-86f6-cb252fdb3bb0",
   "metadata": {},
   "outputs": [],
   "source": []
  }
 ],
 "metadata": {
  "kernelspec": {
   "display_name": "spylon-kernel",
   "language": "scala",
   "name": "spylon-kernel"
  },
  "language_info": {
   "codemirror_mode": "text/x-scala",
   "file_extension": ".scala",
   "help_links": [
    {
     "text": "MetaKernel Magics",
     "url": "https://metakernel.readthedocs.io/en/latest/source/README.html"
    }
   ],
   "mimetype": "text/x-scala",
   "name": "scala",
   "pygments_lexer": "scala",
   "version": "0.4.1"
  }
 },
 "nbformat": 4,
 "nbformat_minor": 5
}
